{
 "cells": [
  {
   "cell_type": "code",
   "execution_count": 1,
   "metadata": {},
   "outputs": [],
   "source": [
    "import pandas as pd\n",
    "import numpy as np\n",
    "import os\n",
    "from matplotlib import pyplot as plt\n",
    "from scipy.signal import butter, lfilter\n",
    "from scipy.signal import freqz\n",
    "from pyemd import emd\n",
    "from sklearn.metrics import pairwise\n",
    "from sklearn.metrics import accuracy_score\n",
    "# %matplotlib inline"
   ]
  },
  {
   "cell_type": "code",
   "execution_count": 2,
   "metadata": {},
   "outputs": [],
   "source": [
    "class FileUtilities(object):\n",
    "    \"\"\" \n",
    "        Reads the CSI data \n",
    "    \"\"\"\n",
    "    def __init__(self, path):\n",
    "        super(FileUtilities, self).__init__()\n",
    "        self.path = path\n",
    "        self.data_matrices = []\n",
    "        self.amplitude = []\n",
    "        self.labels = []\n",
    "        print(\"FileUtilities initialized\")\n",
    "        \n",
    "    def read_csv(self,file):\n",
    "        return pd.read_csv(file)\n",
    "\n",
    "    def get_data_matrix(self,df):\n",
    "        \"\"\" Returns the timestamps, amplitude and phase as a single matrix \"\"\"\n",
    "        return(df.as_matrix())\n",
    "\n",
    "    def get_data_matrices(self):\n",
    "        files = os.listdir(self.path)\n",
    "        for file in files:\n",
    "            df = self.read_csv(self.path+file)\n",
    "            # label = str(str(file).split('-')[1])\n",
    "            label = str(str(file).split('_')[3])\n",
    "            self.labels.append(label)\n",
    "            print(\"Reading \" + str(file) + \"...\")\n",
    "            data = self.get_data_matrix(df)\n",
    "            self.data_matrices.append(data)\n",
    "        print(\"FileUtilities::get_data_matrices read %d files\" %(len(self.data_matrices)))\n",
    "        return self.data_matrices\n",
    "\n",
    "    def get_amplitude_matrices(self):\n",
    "        if not self.data_matrices:\n",
    "            self.get_data_matrices()\n",
    "        for data_matrix in self.data_matrices:\n",
    "            self.amplitude.append(np.array(data_matrix[:,1:]))\t\t# for new data\n",
    "            # self.amplitude.append(np.array(data_matrix[:,1:91]))\n",
    "        return self.amplitude\n",
    "    \n",
    "    def plot_reading_amp_summed(self,input_file):\n",
    "        df = self.read_csv(self.path+input_file)\n",
    "        data = self.get_data_matrix(df)\n",
    "        s = data[:,1:31]\n",
    "        res = np.sum(s,axis = 0)\n",
    "        return res\n",
    "    \n",
    "    def plot_reading_amp_subcarrier(self,input_file,subcarrier_index):\n",
    "        df = self.read_csv(self.path+input_file)\n",
    "        data = self.get_data_matrix(df)\n",
    "        s = data[:,subcarrier_index]\n",
    "        return s"
   ]
  },
  {
   "cell_type": "code",
   "execution_count": 3,
   "metadata": {},
   "outputs": [],
   "source": [
    "class MovingVariance(object):\n",
    "\t\"\"\" Calculates moving variance \"\"\"\n",
    "\tdef __init__(self, C, window):\n",
    "\t\tsuper(MovingVariance, self).__init__()\n",
    "\t\tself.C_ = C\n",
    "\t\tself.window_ = window\n",
    "\t\tprint(\"MovingVariance initialized\")\n",
    "\n",
    "\tdef get_moving_var(self):\n",
    "\t\treturn pd.rolling_var(self.C_,self.window_)\n",
    "\t\n",
    "\tdef get_cumulative_moving_variance(self,V):\n",
    "\t\treturn np.sum(V,axis=1)"
   ]
  },
  {
   "cell_type": "code",
   "execution_count": 4,
   "metadata": {},
   "outputs": [],
   "source": [
    "class CoarseActivityDetection(object):\n",
    "\t\"\"\"\n",
    "\t\tAnnotates and stores the the activity detected between walking and running\n",
    "\t\tInput: dataframes of the CSI data, threshold to be set.\n",
    "\t\tOutput: Cumulatice Moving Variances\n",
    "\t\t\t\tMax of Cumulative Variances per data set\n",
    "\t\t\t\tplots Cumulatice Moving Variances\n",
    "\t\t\t\tplots Max of Cumulative Variances per data set\n",
    "\t\"\"\"\n",
    "\t\n",
    "\tdef __init__(self, data_matrices, threshold):\n",
    "\t\tsuper(CoarseActivityDetection, self).__init__()\n",
    "\t\tself.data_matrices = data_matrices\n",
    "\t\tself.threshold = threshold\n",
    "\t\tself.max_cmvs_ = []\n",
    "\t\tself.cmvs_ = []\n",
    "\t\tprint(\"CoarseActivityDetection initialized\")\n",
    "\n",
    "\tdef _store_cumulative_moving_variance(self, data):\n",
    "\t\tprint('Calculating Cumulative Moving Variance...')\n",
    "\t\tamplitude = data[:,1:91]\n",
    "\t\tmv = MovingVariance(amplitude,1000)\n",
    "\t\tV = mv.get_moving_var()\n",
    "\t\tCMV = mv.get_cumulative_moving_variance(V)\n",
    "\t\tself.cmvs_.append(np.array(CMV))\n",
    "\t\treturn self\n",
    "\n",
    "\tdef get_cmv_for_all_files(self):\n",
    "\t\tprint(\"Calculating cmv...\")\n",
    "\t\tfor data_matrix in self.data_matrices:\n",
    "\t\t\tself._store_cumulative_moving_variance(data_matrix)\n",
    "\t\treturn self\n",
    "\n",
    "\tdef get_max_variance(self):\n",
    "\t\tprint(self.cmvs_)\n",
    "\t\tfor cmv in self.cmvs_:\n",
    "\t\t\tself.max_cmvs_.append(np.nanmax(cmv,axis=0))\n",
    "\t\treturn self\n",
    "\n",
    "\tdef plot_cmvs(self):\n",
    "\t\tprint(\"Plotting Cumulative Moving Variance...\")\n",
    "\t\tplt.figure(figsize=(12,6))\n",
    "\t\tplt.title('Cumulative Moving Variance over time')\n",
    "\t\tplt.xlabel('Time')\n",
    "\t\tplt.ylabel('Cumulative Moving Variance')\n",
    "\t\tplt.grid(True)\n",
    "\t\tfor cmv in self.cmvs_:\n",
    "\t\t\tplt.plot(range(1, cmv.shape[0]+1) , cmv)\n",
    "\t\t# plt.legend(loc='upper right')\n",
    "\t\tplt.show()\n",
    "\n",
    "\tdef plot_max_cmvs(self):\n",
    "\t\tprint(\"Plotting Maximum Cumulative Moving Variance...\")\n",
    "\t\tplt.figure(figsize=(12,6))\n",
    "\t\tplt.title('Maximum Cumulative Moving Variance of each CSI set')\n",
    "\t\tplt.grid(True)\n",
    "\t\tplt.xlabel('Samples')\n",
    "\t\tplt.ylabel('Maximum Cumulative Moving Variance')\n",
    "\t\tprint(self.max_cmvs_)\n",
    "\t\t# print(self.max_cmvs_.shape)\n",
    "\t\tplt.plot(range(1, len(self.max_cmvs_)+1) , self.max_cmvs_, marker = 'o')\n",
    "\t\t# plt.legend(loc='upper right')\n",
    "\t\tplt.show()"
   ]
  },
  {
   "cell_type": "code",
   "execution_count": 5,
   "metadata": {},
   "outputs": [],
   "source": [
    "class EarthMovingDistance(object):\n",
    "\t\"\"\" \n",
    "\t\tEarthMovingDistance class\n",
    "\t\tInput: list of amplitude histograms\n",
    "\t\tOutput: E matrix\n",
    "\t\"\"\"\n",
    "\tdef __init__(self, amplitude_histograms):\n",
    "\t\tsuper(EarthMovingDistance, self).__init__()\n",
    "\t\tself.amplitude_histograms = amplitude_histograms\n",
    "\t\tself.E = []\n",
    "\t\tself.closest = [] # can be calculated from E as well \n",
    "\t\tprint(\"EarthMovingDistance classifier initialized\")\n",
    "\n",
    "\tdef _ground_distance(self, histogram1, histogram2):\n",
    "\t\treturn pairwise.pairwise_distances(histogram1.reshape(-1,1),histogram2.reshape(-1,1))\n",
    "\n",
    "\tdef _get_emd(self, histogram1, histogram2):\n",
    "\t\t\"\"\" \n",
    "\t\t\tInput: histograms -> histogram of amplitude bins for single round\n",
    "\t\t\tOutput: The Earth Mover Distance between two histograms\n",
    "\t\t\"\"\"\n",
    "\t\thistogram1 = histogram1.astype(float)\n",
    "\t\thistogram2 = histogram2.astype(float)\n",
    "\t\tgd = self._ground_distance(histogram1, histogram2)\n",
    "\t\treturn emd(histogram1, histogram2, gd)\n",
    "\n",
    "\tdef get_EMD_matrix(self):\n",
    "\t\t\"\"\"\n",
    "\t\t\tInput: cached amplitude_histograms\n",
    "\t\t\tOutput: cached EMD matrix (R x R)\n",
    "\t\t\"\"\"\n",
    "\t\tprint(\"Calculating EMD matrix for %d histograms\" %(len(self.amplitude_histograms))) \n",
    "\t\tfor C_r in self.amplitude_histograms:\n",
    "\t\t\tE_r = []\n",
    "\t\t\tfor C_i in self.amplitude_histograms:\n",
    "\t\t\t\temd = self._get_emd(C_r,C_i)\n",
    "\t\t\t\tE_r.append(emd)\n",
    "\t\t\t\t# print(\"EMD calculated in current iteration as \", str(emd))\n",
    "\t\t\tE_r_np = np.array(E_r)\n",
    "\t\t\t# calculating the second smallest emd as smallest would be 0\n",
    "\t\t\tclosest_activity = E_r_np.argsort()[1] \n",
    "\t\t\tself.closest.append(closest_activity)\n",
    "\t\t\tself.E.append(np.array(E_r))\n",
    "\t\tprint(\"EMD matrix calculated!\")\n",
    "\t\treturn np.array(self.E)\n",
    "\n",
    "\tdef get_closest_activity(self):\n",
    "\t\tprint(\"Calculating closest_activity\")\n",
    "\t\tif not self.E:\n",
    "\t\t\tself.get_EMD_matrix()\n",
    "\t\tprint(\"closest_activity calculated\")\n",
    "\t\treturn np.array(self.closest)"
   ]
  },
  {
   "cell_type": "code",
   "execution_count": 6,
   "metadata": {},
   "outputs": [],
   "source": [
    "def get_hist(utl,path,input_file):\n",
    "    df = utl.read_csv(path+input_file)\n",
    "    data = utl.get_data_matrix(df)\n",
    "    dt = data[:,1:31]\n",
    "    # print(dt.shape)\n",
    "    freq = np.zeros(100)\n",
    "    for packet in dt:\n",
    "        for amp in packet:\n",
    "            freq[int(amp)] += 1\n",
    "    # print(freq)\n",
    "    return freq"
   ]
  },
  {
   "cell_type": "code",
   "execution_count": 7,
   "metadata": {},
   "outputs": [],
   "source": [
    "def plot_hist(freq):\n",
    "    plt.figure(figsize=(8,3))\n",
    "    plt.title('Amplitude bins and counts')\n",
    "    plt.xlabel('Bins')\n",
    "    plt.ylabel('Amplitude Counts')\n",
    "    # plt.grid(True)\n",
    "    pos = np.arange(freq.shape[0])\n",
    "    pos_x = np.arange(0,freq.shape[0],5)\n",
    "    width = 0.7\n",
    "    ax = plt.axes()\n",
    "    ax.set_xticks(pos_x)\n",
    "    ax.set_xticklabels(pos_x)\n",
    "    # plt.bar(pos, freq, width)\n",
    "    plt.bar(pos, freq, width,color='green')\n",
    "    plt.show()"
   ]
  },
  {
   "cell_type": "code",
   "execution_count": 8,
   "metadata": {},
   "outputs": [],
   "source": [
    "def extract_label(x):\n",
    "    y = []\n",
    "    for p in x:\n",
    "        tmp = p.split('-')\n",
    "        y.append(tmp[1]+'-'+tmp[2])\n",
    "    return y"
   ]
  },
  {
   "cell_type": "code",
   "execution_count": 9,
   "metadata": {},
   "outputs": [],
   "source": [
    "def butter_lowpass(cutoff, fs, order=5):\n",
    "    nyq = 0.5 * fs\n",
    "    normal_cutoff = cutoff / nyq\n",
    "    b, a = butter(order, normal_cutoff, btype='low', analog=False)\n",
    "    return b, a"
   ]
  },
  {
   "cell_type": "code",
   "execution_count": 10,
   "metadata": {},
   "outputs": [],
   "source": [
    "def butter_lowpass_filter(data, cutoff, fs, order=5):\n",
    "    b, a = butter_lowpass(cutoff, fs, order=order)\n",
    "    y = lfilter(b, a, data)\n",
    "    return y"
   ]
  },
  {
   "cell_type": "code",
   "execution_count": 11,
   "metadata": {},
   "outputs": [
    {
     "data": {
      "image/png": "[encoded data removed]",
      "text/plain": [
       "<matplotlib.figure.Figure at 0x113bca7f0>"
      ]
     },
     "metadata": {},
     "output_type": "display_data"
    }
   ],
   "source": [
    "# Filter requirements.\n",
    "order = 5\n",
    "fs = 10        # sample rate, Hz\n",
    "cutoff = 0.8   # desired cutoff frequency of the filter, Hz\n",
    "\n",
    "# Get the filter coefficients so we can check its frequency response.\n",
    "b, a = butter_lowpass(cutoff, fs, order)\n",
    "# Plot the frequency response.\n",
    "w, h = freqz(b, a, worN=8000)\n",
    "plt.subplot(2, 1, 1)\n",
    "plt.plot(0.5*fs*w/np.pi, np.abs(h), 'b')\n",
    "plt.plot(cutoff, 0.5*np.sqrt(2), 'ko')\n",
    "plt.axvline(cutoff, color='k')\n",
    "plt.xlim(0, 0.5*fs)\n",
    "plt.title(\"Lowpass Filter Frequency Response\")\n",
    "plt.xlabel('Frequency [Hz]')\n",
    "plt.grid()"
   ]
  },
  {
   "cell_type": "code",
   "execution_count": 12,
   "metadata": {},
   "outputs": [
    {
     "name": "stdout",
     "output_type": "stream",
     "text": [
      "FileUtilities initialized\n"
     ]
    },
    {
     "data": {
      "text/plain": [
       "[<matplotlib.lines.Line2D at 0x113c72cf8>]"
      ]
     },
     "execution_count": 12,
     "metadata": {},
     "output_type": "execute_result"
    },
    {
     "data": {
      "image/png": "[encoded data removed]",
      "text/plain": [
       "<matplotlib.figure.Figure at 0x113bcf1d0>"
      ]
     },
     "metadata": {},
     "output_type": "display_data"
    }
   ],
   "source": [
    "# path = '~/Documents/git-aryans/csi-data-parser/matlab/process_data/'\n",
    "path = '/Users/Apple/Documents/git-aryans/data/walking_loc_liv/'\n",
    "\n",
    "# input_file = 'LivingToBed1-parsed.csv'\n",
    "# input_file = 'LivingToBed2-parsed.csv'\n",
    "# input_file = 'LivingToKitchen1-parsed.csv'\n",
    "input_file = 'LivingToKitchen2-parsed.csv'\n",
    "# input_file = 'BedToBath1-parsed.csv'\n",
    "# input_file = 'BedToBath2-parsed.csv'\n",
    "\n",
    "utl = FileUtilities(path)\n",
    "df = utl.read_csv(path+input_file)\n",
    "data = utl.get_data_matrix(df)\n",
    "plt.figure(figsize=(18,6))\n",
    "plt.grid()\n",
    "s = data[:,20]\n",
    "# s1 = np.sum(s,axis=1)\n",
    "# plt.plot(s)\n",
    "y = butter_lowpass_filter(s, cutoff, fs, order)\n",
    "x = y.shape[0]\n",
    "plt.xticks(np.arange(0, x, 20))\n",
    "plt.plot(np.arange(0,x),y)"
   ]
  },
  {
   "cell_type": "code",
   "execution_count": 13,
   "metadata": {},
   "outputs": [
    {
     "name": "stdout",
     "output_type": "stream",
     "text": [
      "FileUtilities initialized\n",
      "walk-liv-kit-1.csv\n",
      "walk-liv-kit-3.csv\n",
      "walk-liv-kit-2.csv\n",
      "walk-liv-kit-6.csv\n",
      "walk-liv-kit-7.csv\n",
      "walk-liv-kit-5.csv\n",
      "walk-liv-kit-4.csv\n",
      "walk-liv-bed-8.csv\n",
      "walk-liv-bed-9.csv\n",
      "walk-liv-bed-2.csv\n",
      "walk-liv-bed-3.csv\n",
      "walk-liv-bed-1.csv\n",
      "walk-liv-kit-10.csv\n",
      "walk-liv-bed-4.csv\n",
      "walk-liv-bed-5.csv\n",
      "walk-liv-bed-10.csv\n",
      "walk-liv-bed-7.csv\n",
      "walk-liv-bed-6.csv\n",
      "walk-liv-kit-9.csv\n",
      "walk-liv-kit-8.csv\n"
     ]
    }
   ],
   "source": [
    "path = '/Users/Apple/Documents/git-aryans/data/walking_loc_liv/walk-all/'\n",
    "files = os.listdir(path)\n",
    "utl = FileUtilities(path)\n",
    "histograms = []\n",
    "paths = []\n",
    "\n",
    "for file in files:\n",
    "    print(file)\n",
    "    paths.append(file)\n",
    "    freq = get_hist(utl,path,file)\n",
    "    histograms.append(freq)\n",
    "#     plot_hist(freq)\n",
    "\n",
    "paths = np.array(paths)"
   ]
  },
  {
   "cell_type": "code",
   "execution_count": 14,
   "metadata": {},
   "outputs": [
    {
     "name": "stdout",
     "output_type": "stream",
     "text": [
      "['walk-liv-kit-1.csv' 'walk-liv-kit-3.csv' 'walk-liv-kit-2.csv'\n",
      " 'walk-liv-kit-6.csv' 'walk-liv-kit-7.csv' 'walk-liv-kit-5.csv'\n",
      " 'walk-liv-kit-4.csv' 'walk-liv-bed-8.csv' 'walk-liv-bed-9.csv'\n",
      " 'walk-liv-bed-2.csv' 'walk-liv-bed-3.csv' 'walk-liv-bed-1.csv'\n",
      " 'walk-liv-kit-10.csv' 'walk-liv-bed-4.csv' 'walk-liv-bed-5.csv'\n",
      " 'walk-liv-bed-10.csv' 'walk-liv-bed-7.csv' 'walk-liv-bed-6.csv'\n",
      " 'walk-liv-kit-9.csv' 'walk-liv-kit-8.csv']\n"
     ]
    }
   ],
   "source": [
    "print(paths)"
   ]
  },
  {
   "cell_type": "code",
   "execution_count": 15,
   "metadata": {},
   "outputs": [
    {
     "name": "stdout",
     "output_type": "stream",
     "text": [
      "EarthMovingDistance classifier initialized\n",
      "Calculating EMD matrix for 20 histograms\n",
      "EMD matrix calculated!\n",
      "\n",
      "[   7202.90629785    2764.86225402    3564.75474549    2764.86225402\n",
      "    3564.75474549    7145.94252728  105413.00454982    2508.7508837\n",
      "    4707.77944036    2461.95311981    3986.97282036    2461.95311981\n",
      "    4585.7675061     2781.8966181     3986.97282036    2508.7508837\n",
      "    2781.8966181    12707.09923289    3561.00553971    4585.7675061 ]\n",
      "['walk-liv-kit-7.csv' 'walk-liv-kit-6.csv' 'walk-liv-kit-7.csv'\n",
      " 'walk-liv-kit-3.csv' 'walk-liv-kit-2.csv' 'walk-liv-kit-2.csv'\n",
      " 'walk-liv-kit-1.csv' 'walk-liv-bed-10.csv' 'walk-liv-kit-6.csv'\n",
      " 'walk-liv-bed-1.csv' 'walk-liv-bed-5.csv' 'walk-liv-bed-2.csv'\n",
      " 'walk-liv-kit-8.csv' 'walk-liv-bed-7.csv' 'walk-liv-bed-3.csv'\n",
      " 'walk-liv-bed-8.csv' 'walk-liv-bed-4.csv' 'walk-liv-bed-1.csv'\n",
      " 'walk-liv-kit-3.csv' 'walk-liv-kit-10.csv']\n",
      "['walk-liv-kit-1.csv' 'walk-liv-kit-3.csv' 'walk-liv-kit-2.csv'\n",
      " 'walk-liv-kit-6.csv' 'walk-liv-kit-7.csv' 'walk-liv-kit-5.csv'\n",
      " 'walk-liv-kit-4.csv' 'walk-liv-bed-8.csv' 'walk-liv-bed-9.csv'\n",
      " 'walk-liv-bed-2.csv' 'walk-liv-bed-3.csv' 'walk-liv-bed-1.csv'\n",
      " 'walk-liv-kit-10.csv' 'walk-liv-bed-4.csv' 'walk-liv-bed-5.csv'\n",
      " 'walk-liv-bed-10.csv' 'walk-liv-bed-7.csv' 'walk-liv-bed-6.csv'\n",
      " 'walk-liv-kit-9.csv' 'walk-liv-kit-8.csv']\n"
     ]
    }
   ],
   "source": [
    "# print(freq)\n",
    "ed = EarthMovingDistance(histograms)\n",
    "M = ed.get_EMD_matrix()\n",
    "# print(M)\n",
    "min_dis = np.zeros(M.shape[0])\n",
    "min_idx = np.zeros(M.shape[0]).astype(int)\n",
    "for i in range(M.shape[0]):\n",
    "    mn = float(\"inf\")\n",
    "    idx = i\n",
    "    for j in range(M.shape[1]):\n",
    "        if (M[i][j] == 0):\n",
    "            continue;\n",
    "        elif (M[i][j] < mn):\n",
    "            mn = min(mn,M[i][j])\n",
    "            idx = j\n",
    "    min_dis[i] = mn\n",
    "    min_idx[i] = idx\n",
    "\n",
    "predicted_paths = paths[min_idx]\n",
    "    \n",
    "print()\n",
    "print(min_dis)\n",
    "print(paths[min_idx])\n",
    "print(paths)"
   ]
  },
  {
   "cell_type": "code",
   "execution_count": 17,
   "metadata": {},
   "outputs": [
    {
     "name": "stdout",
     "output_type": "stream",
     "text": [
      "['liv-kit', 'liv-kit', 'liv-kit', 'liv-kit', 'liv-kit', 'liv-kit', 'liv-kit', 'liv-bed', 'liv-bed', 'liv-bed', 'liv-bed', 'liv-bed', 'liv-kit', 'liv-bed', 'liv-bed', 'liv-bed', 'liv-bed', 'liv-bed', 'liv-kit', 'liv-kit']\n",
      "['liv-kit', 'liv-kit', 'liv-kit', 'liv-kit', 'liv-kit', 'liv-kit', 'liv-kit', 'liv-bed', 'liv-kit', 'liv-bed', 'liv-bed', 'liv-bed', 'liv-kit', 'liv-bed', 'liv-bed', 'liv-bed', 'liv-bed', 'liv-bed', 'liv-kit', 'liv-kit']\n",
      "Accuracy = 95.0%\n"
     ]
    }
   ],
   "source": [
    "y = extract_label(predicted_paths)\n",
    "x = extract_label(paths)\n",
    "print(x)\n",
    "print(y)\n",
    "print(\"Accuracy = \",end=\"\")\n",
    "print(str(accuracy_score(x,y)*100) + '%')"
   ]
  },
  {
   "cell_type": "code",
   "execution_count": null,
   "metadata": {},
   "outputs": [],
   "source": []
  }
 ],
 "metadata": {
  "kernelspec": {
   "display_name": "Python 3",
   "language": "python",
   "name": "python3"
  },
  "language_info": {
   "codemirror_mode": {
    "name": "ipython",
    "version": 3
   },
   "file_extension": ".py",
   "mimetype": "text/x-python",
   "name": "python",
   "nbconvert_exporter": "python",
   "pygments_lexer": "ipython3",
   "version": "3.6.3"
  }
 },
 "nbformat": 4,
 "nbformat_minor": 2
}
